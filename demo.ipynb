import struct
Len1 = 48
Heada = struct.pack(">i", Len1)
print(Heada)
